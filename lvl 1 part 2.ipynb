{
 "cells": [
  {
   "cell_type": "code",
   "execution_count": 14,
   "id": "a1acd6ab",
   "metadata": {},
   "outputs": [
    {
     "name": "stdout",
     "output_type": "stream",
     "text": [
      "[(2, 8), (3, 27), (4, 64), (5, 125)]\n"
     ]
    }
   ],
   "source": [
    "#31.Create a list of tuples from given list having number and its cube in each tuple\n",
    "lst=[2,3,4,5]\n",
    "newlist=[]\n",
    "for i in lst:\n",
    "    c=i**3\n",
    "    newlist.append((i,c))\n",
    "print(newlist)"
   ]
  },
  {
   "cell_type": "code",
   "execution_count": 1,
   "id": "993efe52",
   "metadata": {},
   "outputs": [
    {
     "name": "stdout",
     "output_type": "stream",
     "text": [
      "{'rajnish': 9, 'ravi': 10, 'sanjeev': 15, 'suraj': 32, 'yash': 2}\n"
     ]
    }
   ],
   "source": [
    "#32.Sort Python Dictionaries by Key or Value\n",
    "myDict = {'ravi': 10, 'rajnish': 9,\n",
    "        'sanjeev': 15, 'yash': 2, 'suraj': 32}\n",
    " \n",
    "myKeys = list(myDict.keys())\n",
    "myKeys.sort()\n",
    "sorted_dict = {i: myDict[i] for i in myKeys}\n",
    " \n",
    "print(sorted_dict)"
   ]
  },
  {
   "cell_type": "code",
   "execution_count": 2,
   "id": "395db365",
   "metadata": {},
   "outputs": [
    {
     "name": "stdout",
     "output_type": "stream",
     "text": [
      "{(\"19.07'53.2\", \"72.54'51.0\"): 'Mumbai', (\"28.33'34.1\", \"77.06'16.6\"): 'Delhi'}\n",
      "\n",
      "\n",
      "[\"19.07'53.2\", \"28.33'34.1\"]\n",
      "[\"72.54'51.0\", \"77.06'16.6\"]\n",
      "['Mumbai', 'Delhi']\n"
     ]
    }
   ],
   "source": [
    "#33.Python dictionary with keys having multiple inputs\n",
    "places = {(\"19.07'53.2\", \"72.54'51.0\"):\"Mumbai\", \\\n",
    "          (\"28.33'34.1\", \"77.06'16.6\"):\"Delhi\"}\n",
    "print(places)\n",
    "print('\\n')\n",
    "lat = []\n",
    "long = []\n",
    "plc = []\n",
    "for i in places:\n",
    "    lat.append(i[0])\n",
    "    long.append(i[1])\n",
    "    plc.append(places[i[0], i[1]])\n",
    " \n",
    "print(lat)\n",
    "print(long)\n",
    "print(plc)"
   ]
  },
  {
   "cell_type": "code",
   "execution_count": 4,
   "id": "bdfad2df",
   "metadata": {},
   "outputs": [
    {
     "name": "stdout",
     "output_type": "stream",
     "text": [
      "Sum : 600\n"
     ]
    }
   ],
   "source": [
    "#34.Python program to find the sum of all items in a dictionary\n",
    "dict = {'a': 100, 'b': 200, 'c': 300}\n",
    "list=[]\n",
    "for i in dict:\n",
    "    list.append(dict[i])\n",
    "final=sum(list)\n",
    "print(\"Sum :\",final)"
   ]
  },
  {
   "cell_type": "code",
   "execution_count": 5,
   "id": "1450070d",
   "metadata": {},
   "outputs": [
    {
     "name": "stdout",
     "output_type": "stream",
     "text": [
      "Dictionary: {'Name': 'Steve', 'Age': 30, 'Designation': 'Programmer'}\n",
      "Length of dictionary: 3\n"
     ]
    }
   ],
   "source": [
    "#35.Python program to find the length of a dictionary\n",
    "dict1 ={'Name':'Steve', 'Age':30, 'Designation':'Programmer'}\n",
    "print(\"Dictionary:\", dict1)\n",
    "print(\"Length of dictionary:\", len(dict1))"
   ]
  },
  {
   "cell_type": "code",
   "execution_count": 7,
   "id": "6d1f4f67",
   "metadata": {},
   "outputs": [
    {
     "name": "stdout",
     "output_type": "stream",
     "text": [
      "Length= 3\n"
     ]
    }
   ],
   "source": [
    "#36.Find the length of a set in python\n",
    "set1=set()\n",
    "set1.add(8)\n",
    "set1.add(9)\n",
    "set1.add((6,7))\n",
    "print(\"Length=\",len(set1))"
   ]
  },
  {
   "cell_type": "code",
   "execution_count": 8,
   "id": "e4f2099f",
   "metadata": {},
   "outputs": [
    {
     "name": "stdout",
     "output_type": "stream",
     "text": [
      "k\n",
      "s\n",
      "E\n",
      "e\n",
      "g\n"
     ]
    }
   ],
   "source": [
    "#37.Iterate over a set in python\n",
    "test_set = set(\"geEks\")\n",
    "for val in test_set:\n",
    "    print(val)"
   ]
  },
  {
   "cell_type": "code",
   "execution_count": 9,
   "id": "b07b16a9",
   "metadata": {},
   "outputs": [
    {
     "name": "stdout",
     "output_type": "stream",
     "text": [
      "65\n",
      "1\n"
     ]
    }
   ],
   "source": [
    "#38.Maximum and Minimum in a Set\n",
    "sets=set([8,16,24,1,25,3,10,65,55])\n",
    "print(max(sets))\n",
    "print(min(sets))"
   ]
  },
  {
   "cell_type": "code",
   "execution_count": 10,
   "id": "15f1941c",
   "metadata": {},
   "outputs": [
    {
     "name": "stdout",
     "output_type": "stream",
     "text": [
      "{9, 10, 12, 13, 15}\n",
      "{10, 12, 13, 15}\n",
      "{12, 13, 15}\n",
      "{13, 15}\n",
      "{15}\n",
      "set()\n"
     ]
    }
   ],
   "source": [
    "#39.Remove items from set\n",
    "def Remove(initial_set):\n",
    "    while initial_set:\n",
    "        initial_set.pop()\n",
    "        print(initial_set)\n",
    "initial_set = set([12, 10, 13, 15, 8, 9])\n",
    "Remove(initial_set)"
   ]
  },
  {
   "cell_type": "code",
   "execution_count": 1,
   "id": "f0fef50d",
   "metadata": {},
   "outputs": [
    {
     "name": "stdout",
     "output_type": "stream",
     "text": [
      "True\n",
      "False\n"
     ]
    }
   ],
   "source": [
    "#40.Check if two lists have atleast one element common\n",
    "def common_member(a, b):\n",
    "    a_set = set(a)\n",
    "    b_set = set(b)\n",
    "    if (a_set & b_set):\n",
    "        return True\n",
    "    else:\n",
    "        return False\n",
    "\n",
    "a = [1, 2, 3, 4, 5]\n",
    "b = [5, 6, 7, 8, 9]\n",
    "print(common_member(a, b))\n",
    "\n",
    "a =[1, 2, 3, 4, 5]\n",
    "b =[6, 7, 8, 9]\n",
    "print(common_member(a, b))\n"
   ]
  },
  {
   "cell_type": "code",
   "execution_count": 1,
   "id": "57d9299a",
   "metadata": {},
   "outputs": [
    {
     "name": "stdout",
     "output_type": "stream",
     "text": [
      "The original list : [[5, 8, 9], [2, 0, 9], [5, 4, 2], [2, 3, 9]]\n",
      "The Assigned Matrix : {5: [2, 0, 9], 8: [5, 4, 2], 9: [2, 3, 9]}\n"
     ]
    }
   ],
   "source": [
    "#41.Python – Assigning Subsequent Rows to Matrix first row elements\n",
    "test_list = [[5, 8, 9], [2, 0, 9], [5, 4, 2], [2, 3, 9]]\n",
    "print(\"The original list : \" + str(test_list))\n",
    "a=test_list[0]\n",
    "b=test_list[1:len(test_list)]\n",
    "d=dict()\n",
    "for i in range(0,len(a)):\n",
    "    d[a[i]]=b[i]\n",
    "print(\"The Assigned Matrix : \" + str(d))"
   ]
  },
  {
   "cell_type": "code",
   "execution_count": 1,
   "id": "c27a0281",
   "metadata": {},
   "outputs": [
    {
     "name": "stdout",
     "output_type": "stream",
     "text": [
      "Printing elements of first matrix\n",
      "[[1 2]\n",
      " [3 4]]\n",
      "Printing elements of second matrix\n",
      "[[4 5]\n",
      " [6 7]]\n",
      "Addition of two matrix\n",
      "[[ 5  7]\n",
      " [ 9 11]]\n"
     ]
    }
   ],
   "source": [
    "#42.Adding Matrices in Python\n",
    "import numpy as np\n",
    "A = np.array([[1, 2], [3, 4]])\n",
    "B = np.array([[4, 5], [6, 7]])\n",
    "print(\"Printing elements of first matrix\")\n",
    "print(A)\n",
    "print(\"Printing elements of second matrix\")\n",
    "print(B)\n",
    "print(\"Addition of two matrix\")\n",
    "print(np.add(A, B))"
   ]
  },
  {
   "cell_type": "code",
   "execution_count": 2,
   "id": "83bed7dd",
   "metadata": {},
   "outputs": [
    {
     "name": "stdout",
     "output_type": "stream",
     "text": [
      "Printing elements of first matrix\n",
      "[[1 2]\n",
      " [3 4]]\n",
      "Printing elements of second matrix\n",
      "[[4 5]\n",
      " [6 7]]\n",
      "Subtraction of two matrix\n",
      "[[-3 -3]\n",
      " [-3 -3]]\n"
     ]
    }
   ],
   "source": [
    "#43.Subtracting Matrices in Python\n",
    "import numpy as np\n",
    "A = np.array([[1, 2], [3, 4]])\n",
    "B = np.array([[4, 5], [6, 7]])\n",
    "print(\"Printing elements of first matrix\")\n",
    "print(A)\n",
    "print(\"Printing elements of second matrix\")\n",
    "print(B)\n",
    "print(\"Subtraction of two matrix\")\n",
    "print(np.subtract(A, B))"
   ]
  },
  {
   "cell_type": "code",
   "execution_count": 3,
   "id": "0d797bff",
   "metadata": {},
   "outputs": [
    {
     "name": "stdout",
     "output_type": "stream",
     "text": [
      "The original list : [1, 3, 5, 1, 3, 2, 5, 4, 2]\n",
      "Matrix after grouping : [[1, 1], [2, 2], [3, 3], [4], [5, 5]]\n"
     ]
    }
   ],
   "source": [
    "#44.Group similar elements into Matrix\n",
    "from itertools import groupby\n",
    "test_list = [1, 3, 5, 1, 3, 2, 5, 4, 2]\n",
    "print(\"The original list : \" + str(test_list))\n",
    "res = [list(val) for key, val in groupby(sorted(test_list))]\n",
    "print(\"Matrix after grouping : \" + str(res))"
   ]
  },
  {
   "cell_type": "code",
   "execution_count": 4,
   "id": "6da01d3f",
   "metadata": {},
   "outputs": [
    {
     "name": "stdout",
     "output_type": "stream",
     "text": [
      "1 2 3 4 \n",
      "8 7 6 5 \n",
      "9 10 11 12 \n",
      "16 15 14 13 \n"
     ]
    }
   ],
   "source": [
    "#45.Create an n x n square matrix, where all the sub-matrix has the sum of opposite corner elements as even\n",
    "import itertools\n",
    "def sub_mat_even(n):\n",
    "    temp = itertools.count(1)\n",
    "    l = [[next(temp)for i in range(n)]for i in range(n)]\n",
    "    if n%2 == 0:\n",
    "        for i in range(0,len(l)):\n",
    "            if i%2 == 1:\n",
    "                l[i][:] = l[i][::-1]\n",
    "    for i in range(n):\n",
    "        for j in range(n):\n",
    "            print(l[i][j],end=\" \")\n",
    "        print()\n",
    "n = 4\n",
    "sub_mat_even(n)\n"
   ]
  },
  {
   "cell_type": "code",
   "execution_count": 5,
   "id": "a5d4a0e3",
   "metadata": {},
   "outputs": [
    {
     "name": "stdout",
     "output_type": "stream",
     "text": [
      "(iterable=None, /, **kwds)\n"
     ]
    }
   ],
   "source": [
    "#46.How to get list of parameters name from a function in Python\n",
    "import inspect\n",
    "import collections\n",
    "print(inspect.signature(collections.Counter))"
   ]
  },
  {
   "cell_type": "code",
   "execution_count": 6,
   "id": "2aa5021c",
   "metadata": {},
   "outputs": [
    {
     "name": "stdout",
     "output_type": "stream",
     "text": [
      "Hello from  geeks for geeks, 25\n"
     ]
    }
   ],
   "source": [
    "#47.How to Print Multiple Arguments in Python\n",
    "def GFG(name, num):\n",
    "    print(\"Hello from \", name + ', ' + num)\n",
    "GFG(\"geeks for geeks\", \"25\")"
   ]
  },
  {
   "cell_type": "code",
   "execution_count": 7,
   "id": "fdabe4fa",
   "metadata": {},
   "outputs": [
    {
     "name": "stdout",
     "output_type": "stream",
     "text": [
      "25\n"
     ]
    }
   ],
   "source": [
    "#48.Python program to find the power of a number using recursion\n",
    "def power(N, P):\n",
    "    if P == 0:\n",
    "        return 1\n",
    "    return (N*power(N, P-1))\n",
    "if __name__ == '__main__':\n",
    "    N = 5\n",
    "    P = 2\n",
    "    print(power(N, P))\n"
   ]
  },
  {
   "cell_type": "code",
   "execution_count": 8,
   "id": "764b4c79",
   "metadata": {},
   "outputs": [
    {
     "name": "stdout",
     "output_type": "stream",
     "text": [
      "[('geeks', 1), ('for', 2), ('computer', 3), ('science', 3), ('geeks', 4)]\n"
     ]
    }
   ],
   "source": [
    "#49.Sorting objects of user defined class in Python\n",
    "class GFG:\n",
    "    def __init__(self, a, b):\n",
    "        self.a = a\n",
    "        self.b = b\n",
    "    def __repr__(self):\n",
    "        return str((self.a, self.b))\n",
    "gfg = [GFG(\"geeks\", 1),\n",
    "    GFG(\"computer\", 3),\n",
    "    GFG(\"for\", 2),\n",
    "    GFG(\"geeks\", 4),\n",
    "    GFG(\"science\", 3)]\n",
    "print(sorted(gfg, key=lambda x: x.b))"
   ]
  },
  {
   "cell_type": "code",
   "execution_count": 9,
   "id": "84413596",
   "metadata": {},
   "outputs": [
    {
     "name": "stdout",
     "output_type": "stream",
     "text": [
      "{'Argument_1': 'gfg', 'Argument_2': 'GFG'}\n"
     ]
    }
   ],
   "source": [
    "#50.Functions that accept variable length key value pair as arguments\n",
    "def printKwargs(**kwargs):\n",
    "    print(kwargs)\n",
    "if __name__ == \"__main__\":\n",
    "    printKwargs(Argument_1='gfg', Argument_2='GFG')"
   ]
  }
 ],
 "metadata": {
  "kernelspec": {
   "display_name": "Python 3 (ipykernel)",
   "language": "python",
   "name": "python3"
  },
  "language_info": {
   "codemirror_mode": {
    "name": "ipython",
    "version": 3
   },
   "file_extension": ".py",
   "mimetype": "text/x-python",
   "name": "python",
   "nbconvert_exporter": "python",
   "pygments_lexer": "ipython3",
   "version": "3.10.9"
  }
 },
 "nbformat": 4,
 "nbformat_minor": 5
}
