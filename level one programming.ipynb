{
 "cells": [
  {
   "cell_type": "code",
   "execution_count": 2,
   "id": "f2eb6a6d",
   "metadata": {},
   "outputs": [
    {
     "name": "stdout",
     "output_type": "stream",
     "text": [
      "hello world\n"
     ]
    }
   ],
   "source": [
    "#1)Display “Hello World” in your output screen.\n",
    "print(\"hello world\")"
   ]
  },
  {
   "cell_type": "code",
   "execution_count": 10,
   "id": "26123bf9",
   "metadata": {},
   "outputs": [
    {
     "name": "stdout",
     "output_type": "stream",
     "text": [
      "Enter a number:5\n",
      "Enter a number:10\n",
      "the sum: 15\n"
     ]
    }
   ],
   "source": [
    "#2)Get the input from the user and perform addition of two numbers.\n",
    "a=int(input(\"Enter a number:\"))\n",
    "b=int(input(\"Enter a number:\"))\n",
    "c=a+b\n",
    "print(\"the sum:\",c)"
   ]
  },
  {
   "cell_type": "code",
   "execution_count": 11,
   "id": "808ceb61",
   "metadata": {},
   "outputs": [
    {
     "name": "stdout",
     "output_type": "stream",
     "text": [
      "Enter a number:5\n",
      "Enter a number:3\n",
      "A= 5\n",
      "B= 3\n",
      "After swapping:\n",
      "A= 3\n",
      "B= 5\n"
     ]
    }
   ],
   "source": [
    "#3)swap two variables without temp variable\n",
    "a=int(input(\"Enter a number:\"))\n",
    "b=int(input(\"Enter a number:\"))\n",
    "print(\"A=\",a)\n",
    "print(\"B=\",b)\n",
    "print(\"After swapping:\")\n",
    "a,b=b,a\n",
    "print(\"A=\",a)\n",
    "print(\"B=\",b)"
   ]
  },
  {
   "cell_type": "code",
   "execution_count": 12,
   "id": "4d369c80",
   "metadata": {},
   "outputs": [
    {
     "name": "stdout",
     "output_type": "stream",
     "text": [
      "enter km value: 1\n",
      "the miles value is :   0.621371\n"
     ]
    }
   ],
   "source": [
    "#4)convert the entered kilometres ( Convertion  Factor= 0.621371)\n",
    "a=int(input(\"enter km value: \"))\n",
    "miles=a*0.621371\n",
    "print(\"the miles value is :  \", miles)"
   ]
  },
  {
   "cell_type": "code",
   "execution_count": 13,
   "id": "e7229ac5",
   "metadata": {},
   "outputs": [
    {
     "name": "stdout",
     "output_type": "stream",
     "text": [
      "enter number 1 : 6\n",
      "the number is positive\n"
     ]
    }
   ],
   "source": [
    "#5)check whether the given number is positive, negative or 0\n",
    "a=int(input(\"enter number 1 : \"))\n",
    "if a>=0:\n",
    "    print(\"the number is positive\")\n",
    "else:\n",
    "    print(\" the number is negative\")"
   ]
  },
  {
   "cell_type": "code",
   "execution_count": 14,
   "id": "da8f09d2",
   "metadata": {},
   "outputs": [
    {
     "name": "stdout",
     "output_type": "stream",
     "text": [
      "enter year : 2004\n",
      "the year is a leap year\n"
     ]
    }
   ],
   "source": [
    "#6)verify that the given year is a leap year\n",
    "a=int(input(\"enter year : \"))\n",
    "if a%4==0:\n",
    "    if a%100==0:\n",
    "        if a%400==0:\n",
    "            print(\"the year is a leap year\")\n",
    "        else:\n",
    "            print(\"the year is not a leap year\")\n",
    "    else:\n",
    "        print(\"the year is a leap year\")\n",
    "else:\n",
    "    print(\"the year is not a leap year\")"
   ]
  },
  {
   "cell_type": "code",
   "execution_count": 15,
   "id": "ee9a3eda",
   "metadata": {},
   "outputs": [
    {
     "name": "stdout",
     "output_type": "stream",
     "text": [
      "Enter a start range:1\n",
      "Enter a end range:10\n",
      "2\n",
      "3\n",
      "5\n",
      "7\n"
     ]
    }
   ],
   "source": [
    "#7)display the prime numbers within the given interval\n",
    "a=int(input(\"Enter a start range:\"))\n",
    "b=int(input(\"Enter a end range:\"))\n",
    "c=0\n",
    "if a==1:\n",
    "    a=2\n",
    "for i in range (a,b):\n",
    "    c=0\n",
    "    for j in range (2,i):       \n",
    "        if i%j==0:\n",
    "            c=1\n",
    "    if c==0:\n",
    "        print(i)"
   ]
  },
  {
   "cell_type": "code",
   "execution_count": 16,
   "id": "14e86cad",
   "metadata": {},
   "outputs": [
    {
     "name": "stdout",
     "output_type": "stream",
     "text": [
      "Enter the number of terms: 10\n",
      "Fibonacci sequence up to 10 terms:\n",
      "0\n",
      "1\n",
      "1\n",
      "2\n",
      "3\n",
      "5\n",
      "8\n",
      "13\n",
      "21\n",
      "34\n"
     ]
    }
   ],
   "source": [
    "#8)display the Fibonacci sequence up to n-th term\n",
    "n = int(input(\"Enter the number of terms: \"))\n",
    "a = 0\n",
    "b = 1\n",
    "if n <= 0:\n",
    "    print(\"Invalid input!\")\n",
    "elif n == 1:\n",
    "    print(\"Fibonacci sequence up to\", n, \"term:\")\n",
    "    print(a)\n",
    "else:\n",
    "    print(\"Fibonacci sequence up to\", n, \"terms:\")\n",
    "    print(a)\n",
    "    print(b)\n",
    "    for i in range(2, n):\n",
    "        c = a + b\n",
    "        print(c)\n",
    "        a = b\n",
    "        b = c"
   ]
  },
  {
   "cell_type": "code",
   "execution_count": 9,
   "id": "9594cbb2",
   "metadata": {},
   "outputs": [
    {
     "name": "stdout",
     "output_type": "stream",
     "text": [
      "enter a number : 153\n",
      "its an armstrong number\n"
     ]
    }
   ],
   "source": [
    "#9) check if the number is an Armstrong number or not\n",
    "n=int(input(\"enter a number : \"))\n",
    "num=n\n",
    "elem=[]\n",
    "while n>0 :\n",
    "    a=n%10\n",
    "    elem.append(a)\n",
    "    n=n//10\n",
    "elem1=elem[::-1]\n",
    "sum=0\n",
    "for i in elem:\n",
    "    sum=sum+(i**3)\n",
    "if sum==num:\n",
    "    print(\"its an armstrong number\")\n",
    "else:\n",
    "    print(\"its not an armstrong number\")\n"
   ]
  },
  {
   "cell_type": "code",
   "execution_count": 19,
   "id": "e039592f",
   "metadata": {},
   "outputs": [
    {
     "name": "stdout",
     "output_type": "stream",
     "text": [
      "enter the range : 10\n",
      "the sum of  integers in range 10 is :  55\n"
     ]
    }
   ],
   "source": [
    "#10) Find the Sum of natural numbers up to n-th term\n",
    "n=int(input(\"enter the range : \"))\n",
    "sum=0\n",
    "for i in range(n+1):\n",
    "    sum=sum+i\n",
    "print(\"the sum of  integers in range\", n, \"is : \",sum )"
   ]
  },
  {
   "cell_type": "code",
   "execution_count": 21,
   "id": "326b7893",
   "metadata": {},
   "outputs": [
    {
     "name": "stdout",
     "output_type": "stream",
     "text": [
      "enter the number of rows : 5\n",
      "\n",
      "*\n",
      "**\n",
      "***\n",
      "****\n",
      "*****\n"
     ]
    }
   ],
   "source": [
    "#11)Write a function called show_stars(rows). If rows are 5, it should print the following:\n",
    "\n",
    "n=int(input(\"enter the number of rows : \"))\n",
    "for i in range(n+1):\n",
    "    print(\"*\"*i)"
   ]
  },
  {
   "cell_type": "code",
   "execution_count": 23,
   "id": "8ff5d7fc",
   "metadata": {},
   "outputs": [
    {
     "name": "stdout",
     "output_type": "stream",
     "text": [
      "enter a string: what is this ... ?\n",
      "enter the range from 0 : 4\n",
      " is this ... ?\n"
     ]
    }
   ],
   "source": [
    "#12)Write a program to remove characters from a string starting from zero up to n and return a new string.\n",
    "\n",
    "str=input(\"enter a string: \")\n",
    "n=int(input(\"enter the range from 0 : \"))\n",
    "print(str[n::])"
   ]
  },
  {
   "cell_type": "code",
   "execution_count": 24,
   "id": "350f3748",
   "metadata": {},
   "outputs": [
    {
     "name": "stdout",
     "output_type": "stream",
     "text": [
      "enter the range : 5\n",
      "enter the elements : 10\n",
      "enter the elements : 2\n",
      "enter the elements : 14\n",
      "enter the elements : 15\n",
      "enter the elements : 28\n",
      "the numbers divisibl by 5 are : \n",
      "10\n",
      "15\n"
     ]
    }
   ],
   "source": [
    "#13) Iterate the given list of numbers and print only those numbers which are divisible by 5\n",
    "\n",
    "n=int(input(\"enter the range : \"))\n",
    "list=[]\n",
    "for i in range (0,n):\n",
    "    c=int(input(\"enter the elements : \"))\n",
    "    list.append(c)\n",
    "print(\"the numbers divisibl by 5 are : \")\n",
    "for i in list:\n",
    "    if i%5==0:\n",
    "        print(i)\n",
    "    \n",
    "    "
   ]
  },
  {
   "cell_type": "code",
   "execution_count": 25,
   "id": "9a2de478",
   "metadata": {},
   "outputs": [
    {
     "name": "stdout",
     "output_type": "stream",
     "text": [
      "enter a sentence : hi this is vickey hi\n",
      "'hi' is present 2 times\n"
     ]
    }
   ],
   "source": [
    "#14) Write a program to find how many times substring “Hi” appears in the given string.\n",
    "g=input(\"enter a sentence : \")\n",
    "list=g.split(' ')\n",
    "n=len(list)\n",
    "c=0\n",
    "for i in range (n):\n",
    "    if list[i]=='hi':\n",
    "        c+=1\n",
    "if c!=0:\n",
    "    print(\"'hi' is present {} times\".format(c))\n",
    "else:\n",
    "    print(\"'hi' is not present\")\n",
    "        "
   ]
  },
  {
   "cell_type": "code",
   "execution_count": 26,
   "id": "875a74e8",
   "metadata": {},
   "outputs": [
    {
     "name": "stdout",
     "output_type": "stream",
     "text": [
      "enter the range : 5\n",
      "1\n",
      "22\n",
      "333\n",
      "4444\n",
      "55555\n"
     ]
    }
   ],
   "source": [
    "#15) Print the following pattern\n",
    "n=int(input(\"enter the range : \"))\n",
    "for i in range (1,n+1):\n",
    "    for j in range (0,i):\n",
    "        print(i, end=\"\")\n",
    "    print(end=\"\\n\")"
   ]
  },
  {
   "cell_type": "code",
   "execution_count": 27,
   "id": "33ac5144",
   "metadata": {},
   "outputs": [
    {
     "name": "stdout",
     "output_type": "stream",
     "text": [
      "enter the number : 545\n",
      "its a palindrome\n"
     ]
    }
   ],
   "source": [
    "#16)Write a program to check if the given number is a palindrome number.\n",
    "name=input(\"enter the number : \")\n",
    "rev=name[::-1]\n",
    "if name==rev:\n",
    "    print(\"its a palindrome\")\n",
    "else :\n",
    "    print(\"its not a palindrome\")"
   ]
  },
  {
   "cell_type": "code",
   "execution_count": 28,
   "id": "bf89eb87",
   "metadata": {},
   "outputs": [
    {
     "name": "stdout",
     "output_type": "stream",
     "text": [
      "enter the range : 5\n",
      "enter the elements : 1\n",
      "enter the elements : 2\n",
      "enter the elements : 3\n",
      "enter the elements : 4\n",
      "enter the elements : 5\n",
      "[5, 2, 3, 4, 1]\n"
     ]
    }
   ],
   "source": [
    "#17) Python program to interchange first and last elements in a list\n",
    "n=int(input(\"enter the range : \"))\n",
    "list=[]\n",
    "for i in range (0,n):\n",
    "    c=int(input(\"enter the elements : \"))\n",
    "    list.append(c)\n",
    "fir=min(list)\n",
    "lst=max(list)\n",
    "list[0]=lst\n",
    "list[-1]=fir\n",
    "print(list)"
   ]
  },
  {
   "cell_type": "code",
   "execution_count": 29,
   "id": "153a8728",
   "metadata": {},
   "outputs": [
    {
     "name": "stdout",
     "output_type": "stream",
     "text": [
      "enter the range : 5\n",
      "enter the elements : 1\n",
      "enter the elements : 2\n",
      "enter the elements : 3\n",
      "enter the elements : 4\n",
      "enter the elements : 5\n",
      "[1, 2, 3, 4, 5]\n",
      "enter the index 1: 1\n",
      "enter the index 2: 3\n",
      "[1, 4, 3, 2, 5]\n"
     ]
    }
   ],
   "source": [
    "#18)Python program to swap two elements in a list\n",
    "n=int(input(\"enter the range : \"))\n",
    "list=[]\n",
    "for i in range (0,n):\n",
    "    c=int(input(\"enter the elements : \"))\n",
    "    list.append(c)\n",
    "print(list)\n",
    "f=int(input(\"enter the index 1: \"))\n",
    "s=int(input(\"enter the index 2: \"))\n",
    "t=list[f]\n",
    "list[f]=list[s]\n",
    "list[s]=t\n",
    "print(list)"
   ]
  },
  {
   "cell_type": "code",
   "execution_count": 31,
   "id": "7c69cc99",
   "metadata": {},
   "outputs": [
    {
     "name": "stdout",
     "output_type": "stream",
     "text": [
      "enter the range : 5\n",
      "enter the elements : 2\n",
      "enter the elements : 3\n",
      "enter the elements : 4\n",
      "enter the elements : 5\n",
      "enter the elements : 6\n",
      "len operator :  5\n"
     ]
    }
   ],
   "source": [
    "#19)Python | Ways to find length of list\n",
    "\n",
    "n=int(input(\"enter the range : \"))\n",
    "list=[]\n",
    "for i in range (0,n):\n",
    "    c=int(input(\"enter the elements : \"))\n",
    "    list.append(c)\n",
    "l=len(list)\n",
    "print(\"len operator : \", l)"
   ]
  },
  {
   "cell_type": "code",
   "execution_count": 32,
   "id": "e91acab9",
   "metadata": {},
   "outputs": [
    {
     "name": "stdout",
     "output_type": "stream",
     "text": [
      "enter the range : 5\n",
      "enter the elements : 3\n",
      "enter the elements : 5\n",
      "enter the elements : 1\n",
      "enter the elements : 7\n",
      "enter the elements : 4\n",
      "the maximum of the list is :  7\n",
      "the minimum of the list is :  1\n"
     ]
    }
   ],
   "source": [
    "#20)Maximum of two numbers in Python\n",
    "#21)Minimum of two numbers in Python\n",
    "\n",
    "n=int(input(\"enter the range : \"))\n",
    "list=[]\n",
    "for i in range (0,n):\n",
    "    c=int(input(\"enter the elements : \"))\n",
    "    list.append(c)\n",
    "ma=max(list)\n",
    "mi=min(list)\n",
    "print(\"the maximum of the list is : \", ma)\n",
    "print(\"the minimum of the list is : \", mi)"
   ]
  },
  {
   "cell_type": "code",
   "execution_count": 30,
   "id": "f2fba791",
   "metadata": {},
   "outputs": [
    {
     "name": "stdout",
     "output_type": "stream",
     "text": [
      "enter the name : malayalam\n",
      "its a palindrome\n"
     ]
    }
   ],
   "source": [
    "#22)Python program to check whether the string is Symmetrical or Palindrome\n",
    "\n",
    "name=input(\"enter the name : \")\n",
    "rev=name[::-1]\n",
    "if name==rev:\n",
    "    print(\"its a palindrome\")\n",
    "else :\n",
    "    print(\"its not a palindrome\")"
   ]
  },
  {
   "cell_type": "code",
   "execution_count": 33,
   "id": "8a3c5035",
   "metadata": {},
   "outputs": [
    {
     "name": "stdout",
     "output_type": "stream",
     "text": [
      "enter the name : this is fun\n",
      "nuf si siht\n"
     ]
    }
   ],
   "source": [
    "#23)Reverse words in a given String in Python\n",
    "\n",
    "name=input(\"enter the name : \")\n",
    "rev=name[::-1]\n",
    "print(rev)"
   ]
  },
  {
   "cell_type": "code",
   "execution_count": 47,
   "id": "ae3b2883",
   "metadata": {},
   "outputs": [
    {
     "name": "stdout",
     "output_type": "stream",
     "text": [
      "enter the name : cherry\n",
      "enter pos u want to remove : 2\n",
      "chrry\n"
     ]
    }
   ],
   "source": [
    "#24)Ways to remove i’th character from string in Python\n",
    "name=input(\"enter the name : \")\n",
    "i=int(input(\"enter pos u want to remove : \"))\n",
    "c=name[i]\n",
    "name1=name.replace(c,'')\n",
    "print(name1)"
   ]
  },
  {
   "cell_type": "code",
   "execution_count": 48,
   "id": "6cde2175",
   "metadata": {},
   "outputs": [
    {
     "name": "stdout",
     "output_type": "stream",
     "text": [
      "enter  string : kokushibo\n",
      "9\n"
     ]
    }
   ],
   "source": [
    "#25)Find length of a string in python \n",
    "a=input(\"enter  string : \")\n",
    "num=len(a)\n",
    "print(num)"
   ]
  },
  {
   "cell_type": "code",
   "execution_count": 45,
   "id": "b3f4780b",
   "metadata": {},
   "outputs": [
    {
     "name": "stdout",
     "output_type": "stream",
     "text": [
      "enter  string : this is even\n",
      "hsi vn\n"
     ]
    }
   ],
   "source": [
    "#26)Python program to print even length words in a string\n",
    "a=input(\"enter  string : \")\n",
    "even=a[1::2]\n",
    "print(even)"
   ]
  },
  {
   "cell_type": "code",
   "execution_count": 34,
   "id": "27b65d88",
   "metadata": {},
   "outputs": [
    {
     "name": "stdout",
     "output_type": "stream",
     "text": [
      "the length of the tuple is :  6\n"
     ]
    }
   ],
   "source": [
    "#27)Python program to Find the size of a Tuple\n",
    "\n",
    "tup=(2,3,4,5,6,7)\n",
    "n=len(tup)\n",
    "print(\"the length of the tuple is : \", n)"
   ]
  },
  {
   "cell_type": "code",
   "execution_count": 35,
   "id": "ba2ffc19",
   "metadata": {},
   "outputs": [
    {
     "name": "stdout",
     "output_type": "stream",
     "text": [
      "the maximum of the tuple is :  7\n",
      "the minimum of the tuple is :  2\n"
     ]
    }
   ],
   "source": [
    "#28)Python – Maximum and Minimum K elements in Tuple\n",
    "\n",
    "tup=(2,3,4,5,6,7)\n",
    "ma=max(tup)\n",
    "mi=min(tup)\n",
    "print(\"the maximum of the tuple is : \", ma)\n",
    "print(\"the minimum of the tuple is : \", mi)"
   ]
  },
  {
   "cell_type": "code",
   "execution_count": 36,
   "id": "51cc8efe",
   "metadata": {},
   "outputs": [
    {
     "name": "stdout",
     "output_type": "stream",
     "text": [
      "the sum of the tuple is :  27\n"
     ]
    }
   ],
   "source": [
    "#29)Python – Sum of tuple elements\n",
    "\n",
    "tup=(2,3,4,5,6,7)\n",
    "sum=0\n",
    "for i in tup:\n",
    "    sum=sum+i\n",
    "print(\"the sum of the tuple is : \", sum)"
   ]
  },
  {
   "cell_type": "code",
   "execution_count": 42,
   "id": "cfd35820",
   "metadata": {},
   "outputs": [
    {
     "name": "stdout",
     "output_type": "stream",
     "text": [
      "10\n"
     ]
    }
   ],
   "source": [
    "var=10\n",
    "for  i in range(10):\n",
    "    for j in range(2,10,1):\n",
    "        if var%2==0:\n",
    "            continue\n",
    "            var+=1\n",
    "            var+=1\n",
    "        else:\n",
    "            var+=1\n",
    "print(var)"
   ]
  }
 ],
 "metadata": {
  "kernelspec": {
   "display_name": "Python 3 (ipykernel)",
   "language": "python",
   "name": "python3"
  },
  "language_info": {
   "codemirror_mode": {
    "name": "ipython",
    "version": 3
   },
   "file_extension": ".py",
   "mimetype": "text/x-python",
   "name": "python",
   "nbconvert_exporter": "python",
   "pygments_lexer": "ipython3",
   "version": "3.9.2"
  }
 },
 "nbformat": 4,
 "nbformat_minor": 5
}
